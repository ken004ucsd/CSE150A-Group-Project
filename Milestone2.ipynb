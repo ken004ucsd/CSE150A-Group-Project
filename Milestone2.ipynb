{
 "cells": [
  {
   "cell_type": "markdown",
   "metadata": {
    "id": "sv3iPWg8gC8c"
   },
   "source": [
    "# CSE150A - Milestone 2"
   ]
  },
  {
   "cell_type": "markdown",
   "metadata": {
    "id": "7YxCOy6ygC8c"
   },
   "source": [
    "# Names\n",
    "\n",
    "- Noah Danan\n",
    "- Kenny Nguyen\n",
    "- Yuliana Chavez"
   ]
  },
  {
   "cell_type": "markdown",
   "metadata": {
    "id": "HO8Uyza8msHW"
   },
   "source": [
    "##Data Preproccessing##"
   ]
  },
  {
   "cell_type": "code",
   "execution_count": 88,
   "metadata": {},
   "outputs": [],
   "source": [
    "import pandas as pd\n",
    "from sklearn.model_selection import train_test_split\n",
    "from sklearn.feature_extraction.text import TfidfVectorizer\n",
    "from sklearn.naive_bayes import MultinomialNB\n",
    "from sklearn.metrics import accuracy_score, classification_report"
   ]
  },
  {
   "cell_type": "code",
   "execution_count": 50,
   "metadata": {
    "colab": {
     "base_uri": "https://localhost:8080/",
     "height": 530
    },
    "id": "rWm7Znp5mrw0",
    "outputId": "e0910f16-9ef5-42ce-f52f-ff69c43f99a6"
   },
   "outputs": [
    {
     "data": {
      "text/html": [
       "<div>\n",
       "<style scoped>\n",
       "    .dataframe tbody tr th:only-of-type {\n",
       "        vertical-align: middle;\n",
       "    }\n",
       "\n",
       "    .dataframe tbody tr th {\n",
       "        vertical-align: top;\n",
       "    }\n",
       "\n",
       "    .dataframe thead th {\n",
       "        text-align: right;\n",
       "    }\n",
       "</style>\n",
       "<table border=\"1\" class=\"dataframe\">\n",
       "  <thead>\n",
       "    <tr style=\"text-align: right;\">\n",
       "      <th></th>\n",
       "      <th>review</th>\n",
       "      <th>sentiment</th>\n",
       "    </tr>\n",
       "  </thead>\n",
       "  <tbody>\n",
       "    <tr>\n",
       "      <th>0</th>\n",
       "      <td>One of the other reviewers has mentioned that ...</td>\n",
       "      <td>positive</td>\n",
       "    </tr>\n",
       "    <tr>\n",
       "      <th>1</th>\n",
       "      <td>A wonderful little production. &lt;br /&gt;&lt;br /&gt;The...</td>\n",
       "      <td>positive</td>\n",
       "    </tr>\n",
       "    <tr>\n",
       "      <th>2</th>\n",
       "      <td>I thought this was a wonderful way to spend ti...</td>\n",
       "      <td>positive</td>\n",
       "    </tr>\n",
       "    <tr>\n",
       "      <th>3</th>\n",
       "      <td>Basically there's a family where a little boy ...</td>\n",
       "      <td>negative</td>\n",
       "    </tr>\n",
       "    <tr>\n",
       "      <th>4</th>\n",
       "      <td>Petter Mattei's \"Love in the Time of Money\" is...</td>\n",
       "      <td>positive</td>\n",
       "    </tr>\n",
       "    <tr>\n",
       "      <th>...</th>\n",
       "      <td>...</td>\n",
       "      <td>...</td>\n",
       "    </tr>\n",
       "    <tr>\n",
       "      <th>49995</th>\n",
       "      <td>I thought this movie did a down right good job...</td>\n",
       "      <td>positive</td>\n",
       "    </tr>\n",
       "    <tr>\n",
       "      <th>49996</th>\n",
       "      <td>Bad plot, bad dialogue, bad acting, idiotic di...</td>\n",
       "      <td>negative</td>\n",
       "    </tr>\n",
       "    <tr>\n",
       "      <th>49997</th>\n",
       "      <td>I am a Catholic taught in parochial elementary...</td>\n",
       "      <td>negative</td>\n",
       "    </tr>\n",
       "    <tr>\n",
       "      <th>49998</th>\n",
       "      <td>I'm going to have to disagree with the previou...</td>\n",
       "      <td>negative</td>\n",
       "    </tr>\n",
       "    <tr>\n",
       "      <th>49999</th>\n",
       "      <td>No one expects the Star Trek movies to be high...</td>\n",
       "      <td>negative</td>\n",
       "    </tr>\n",
       "  </tbody>\n",
       "</table>\n",
       "<p>50000 rows × 2 columns</p>\n",
       "</div>"
      ],
      "text/plain": [
       "                                                  review sentiment\n",
       "0      One of the other reviewers has mentioned that ...  positive\n",
       "1      A wonderful little production. <br /><br />The...  positive\n",
       "2      I thought this was a wonderful way to spend ti...  positive\n",
       "3      Basically there's a family where a little boy ...  negative\n",
       "4      Petter Mattei's \"Love in the Time of Money\" is...  positive\n",
       "...                                                  ...       ...\n",
       "49995  I thought this movie did a down right good job...  positive\n",
       "49996  Bad plot, bad dialogue, bad acting, idiotic di...  negative\n",
       "49997  I am a Catholic taught in parochial elementary...  negative\n",
       "49998  I'm going to have to disagree with the previou...  negative\n",
       "49999  No one expects the Star Trek movies to be high...  negative\n",
       "\n",
       "[50000 rows x 2 columns]"
      ]
     },
     "execution_count": 50,
     "metadata": {},
     "output_type": "execute_result"
    }
   ],
   "source": [
    "df = pd.read_csv('IMDB Dataset.csv/IMDB Dataset.csv')\n",
    "\n",
    "df"
   ]
  },
  {
   "cell_type": "code",
   "execution_count": 40,
   "metadata": {},
   "outputs": [
    {
     "data": {
      "text/html": [
       "<div>\n",
       "<style scoped>\n",
       "    .dataframe tbody tr th:only-of-type {\n",
       "        vertical-align: middle;\n",
       "    }\n",
       "\n",
       "    .dataframe tbody tr th {\n",
       "        vertical-align: top;\n",
       "    }\n",
       "\n",
       "    .dataframe thead th {\n",
       "        text-align: right;\n",
       "    }\n",
       "</style>\n",
       "<table border=\"1\" class=\"dataframe\">\n",
       "  <thead>\n",
       "    <tr style=\"text-align: right;\">\n",
       "      <th></th>\n",
       "      <th>review</th>\n",
       "      <th>sentiment</th>\n",
       "    </tr>\n",
       "  </thead>\n",
       "  <tbody>\n",
       "    <tr>\n",
       "      <th>count</th>\n",
       "      <td>50000</td>\n",
       "      <td>50000</td>\n",
       "    </tr>\n",
       "    <tr>\n",
       "      <th>unique</th>\n",
       "      <td>49582</td>\n",
       "      <td>2</td>\n",
       "    </tr>\n",
       "    <tr>\n",
       "      <th>top</th>\n",
       "      <td>Loved today's show!!! It was a variety and not...</td>\n",
       "      <td>positive</td>\n",
       "    </tr>\n",
       "    <tr>\n",
       "      <th>freq</th>\n",
       "      <td>5</td>\n",
       "      <td>25000</td>\n",
       "    </tr>\n",
       "  </tbody>\n",
       "</table>\n",
       "</div>"
      ],
      "text/plain": [
       "                                                   review sentiment\n",
       "count                                               50000     50000\n",
       "unique                                              49582         2\n",
       "top     Loved today's show!!! It was a variety and not...  positive\n",
       "freq                                                    5     25000"
      ]
     },
     "execution_count": 40,
     "metadata": {},
     "output_type": "execute_result"
    }
   ],
   "source": [
    "df.describe()"
   ]
  },
  {
   "cell_type": "code",
   "execution_count": 42,
   "metadata": {},
   "outputs": [
    {
     "data": {
      "text/plain": [
       "sentiment\n",
       "positive    25000\n",
       "negative    25000\n",
       "Name: count, dtype: int64"
      ]
     },
     "execution_count": 42,
     "metadata": {},
     "output_type": "execute_result"
    }
   ],
   "source": [
    "df['sentiment'].value_counts()"
   ]
  },
  {
   "cell_type": "markdown",
   "metadata": {},
   "source": [
    "##Preprocessing"
   ]
  },
  {
   "cell_type": "code",
   "execution_count": 170,
   "metadata": {},
   "outputs": [
    {
     "name": "stdout",
     "output_type": "stream",
     "text": [
      "Model Accuracy: 86.56%\n",
      "Positive\n",
      "Negative\n"
     ]
    }
   ],
   "source": [
    "df[\"sentiment\"] = df[\"sentiment\"].map({\"positive\": 1, \"negative\": 0})\n",
    "\n",
    "X_train, X_test, y_train, y_test = train_test_split(df[\"review\"], df[\"sentiment\"], test_size=0.2, random_state=42)\n",
    "\n",
    "vectorizer = TfidfVectorizer(lowercase=True, stop_words='english', token_pattern=r'[a-zA-Z]{2,}')\n",
    "X_train_tfidf = vectorizer.fit_transform(X_train)\n",
    "X_test_tfidf = vectorizer.transform(X_test)\n",
    "\n",
    "model = MultinomialNB()\n",
    "model.fit(X_train_tfidf, y_train)\n",
    "\n",
    "y_pred = model.predict(X_test_tfidf)\n",
    "accuracy = accuracy_score(y_test, y_pred)\n",
    "print(f\"Model Accuracy: {accuracy * 100:.2f}%\")\n",
    "\n",
    "def predict_sentiment(review):\n",
    "    review_tfidf = vectorizer.transform([review])\n",
    "    prediction = model.predict(review_tfidf)[0]\n",
    "    return \"Positive\" if prediction == 1 else \"Negative\"\n",
    "\n",
    "print(predict_sentiment(\"This movie was amazing!\"))\n",
    "print(predict_sentiment(\"This was the worst movie ever.\"))"
   ]
  },
  {
   "cell_type": "code",
   "execution_count": 174,
   "metadata": {},
   "outputs": [
    {
     "name": "stdout",
     "output_type": "stream",
     "text": [
      "Review: The movie was absolutely fantastic, I loved every second of it!\n",
      "Predicted Sentiment: Positive\n",
      "\n",
      "Review: Terrible film, complete waste of time.\n",
      "Predicted Sentiment: Negative\n",
      "\n",
      "Review: One of the best movies I’ve ever seen, highly recommend it.\n",
      "Predicted Sentiment: Positive\n",
      "\n",
      "Review: This was so boring, I almost fell asleep.\n",
      "Predicted Sentiment: Negative\n",
      "\n",
      "Review: Amazing cinematography and great acting!\n",
      "Predicted Sentiment: Positive\n",
      "\n",
      "Review: The plot was predictable and dull.\n",
      "Predicted Sentiment: Negative\n",
      "\n",
      "Review: I really enjoyed this film, it was very well made.\n",
      "Predicted Sentiment: Positive\n",
      "\n",
      "Review: Disappointing. I expected much better from this director.\n",
      "Predicted Sentiment: Negative\n",
      "\n",
      "Review: A masterpiece, truly a must-watch.\n",
      "Predicted Sentiment: Positive\n",
      "\n",
      "Review: Not my cup of tea, but I can see why some people liked it.\n",
      "Predicted Sentiment: Positive\n",
      "\n",
      "Review: The characters were well-developed and engaging.\n",
      "Predicted Sentiment: Positive\n",
      "\n",
      "Review: Horrible movie, I regret watching it.\n",
      "Predicted Sentiment: Negative\n",
      "\n",
      "Review: A wonderful experience, I was hooked from start to finish.\n",
      "Predicted Sentiment: Positive\n",
      "\n",
      "Review: The script was weak, and the dialogue felt forced.\n",
      "Predicted Sentiment: Negative\n",
      "\n",
      "Review: One of the worst movies I’ve seen in years.\n",
      "Predicted Sentiment: Negative\n",
      "\n",
      "Review: A fantastic film with a touching story.\n",
      "Predicted Sentiment: Positive\n",
      "\n",
      "Review: Mediocre at best, nothing special.\n",
      "Predicted Sentiment: Negative\n",
      "\n",
      "Review: The soundtrack was incredible, it really set the mood.\n",
      "Predicted Sentiment: Positive\n",
      "\n",
      "Review: Painfully slow pacing made it hard to sit through.\n",
      "Predicted Sentiment: Negative\n",
      "\n",
      "Review: Brilliantly written and acted, I’d watch it again!\n",
      "Predicted Sentiment: Positive\n",
      "\n",
      "Review: The action scenes were intense and well-choreographed.\n",
      "Predicted Sentiment: Positive\n",
      "\n",
      "Review: I couldn’t connect with the characters at all.\n",
      "Predicted Sentiment: Negative\n",
      "\n",
      "Review: An absolute classic, everyone should see this movie.\n",
      "Predicted Sentiment: Positive\n",
      "\n",
      "Review: A film with great potential, but poorly executed.\n",
      "Predicted Sentiment: Negative\n",
      "\n",
      "Review: So heartwarming, it brought me to tears.\n",
      "Predicted Sentiment: Positive\n",
      "\n",
      "Review: Too long and dragged out, I lost interest halfway through.\n",
      "Predicted Sentiment: Negative\n",
      "\n",
      "Review: I laughed so much, it was a fantastic comedy!\n",
      "Predicted Sentiment: Positive\n",
      "\n",
      "Review: This was an emotional rollercoaster, I loved it.\n",
      "Predicted Sentiment: Positive\n",
      "\n",
      "Review: The movie felt soulless and empty.\n",
      "Predicted Sentiment: Negative\n",
      "\n",
      "Review: Absolutely hilarious, one of the best comedies ever!\n",
      "Predicted Sentiment: Positive\n",
      "\n",
      "Review: I would watch this again in a heartbeat.\n",
      "Predicted Sentiment: Negative\n",
      "\n"
     ]
    }
   ],
   "source": [
    "sample_reviews = [\n",
    "    \"The movie was absolutely fantastic, I loved every second of it!\",\n",
    "    \"Terrible film, complete waste of time.\",\n",
    "    \"One of the best movies I’ve ever seen, highly recommend it.\",\n",
    "    \"This was so boring, I almost fell asleep.\",\n",
    "    \"Amazing cinematography and great acting!\",\n",
    "    \"The plot was predictable and dull.\",\n",
    "    \"I really enjoyed this film, it was very well made.\",\n",
    "    \"Disappointing. I expected much better from this director.\",\n",
    "    \"A masterpiece, truly a must-watch.\",\n",
    "    \"Not my cup of tea, but I can see why some people liked it.\",\n",
    "    \"The characters were well-developed and engaging.\",\n",
    "    \"Horrible movie, I regret watching it.\",\n",
    "    \"A wonderful experience, I was hooked from start to finish.\",\n",
    "    \"The script was weak, and the dialogue felt forced.\",\n",
    "    \"One of the worst movies I’ve seen in years.\",\n",
    "    \"A fantastic film with a touching story.\",\n",
    "    \"Mediocre at best, nothing special.\",\n",
    "    \"The soundtrack was incredible, it really set the mood.\",\n",
    "    \"Painfully slow pacing made it hard to sit through.\",\n",
    "    \"Brilliantly written and acted, I’d watch it again!\",\n",
    "    \"The action scenes were intense and well-choreographed.\",\n",
    "    \"I couldn’t connect with the characters at all.\",\n",
    "    \"An absolute classic, everyone should see this movie.\",\n",
    "    \"A film with great potential, but poorly executed.\",\n",
    "    \"So heartwarming, it brought me to tears.\",\n",
    "    \"Too long and dragged out, I lost interest halfway through.\",\n",
    "    \"I laughed so much, it was a fantastic comedy!\",\n",
    "\n",
    "    \"This was an emotional rollercoaster, I loved it.\",\n",
    "    \"The movie felt soulless and empty.\",\n",
    "    \"Absolutely hilarious, one of the best comedies ever!\",\n",
    "    \"I would watch this again in a heartbeat.\"\n",
    "]\n",
    "\n",
    "for review in sample_reviews:\n",
    "    print(f\"Review: {review}\")\n",
    "    print(f\"Predicted Sentiment: {predict_sentiment(review)}\\n\")"
   ]
  },
  {
   "cell_type": "markdown",
   "metadata": {
    "id": "tYTihqBggC8f"
   },
   "source": [
    "# Results\n",
    "\n",
    "## Exploratory Data Analysis\n",
    "\n",
    "Carry out whatever EDA you need to for your project.  Because every project will be different we can't really give you much of a template at this point. But please make sure you describe the what and why in text here as well as providing interpretation of results and context."
   ]
  }
 ],
 "metadata": {
  "colab": {
   "provenance": []
  },
  "kernelspec": {
   "display_name": "Python 3 (ipykernel)",
   "language": "python",
   "name": "python3"
  },
  "language_info": {
   "codemirror_mode": {
    "name": "ipython",
    "version": 3
   },
   "file_extension": ".py",
   "mimetype": "text/x-python",
   "name": "python",
   "nbconvert_exporter": "python",
   "pygments_lexer": "ipython3",
   "version": "3.12.4"
  }
 },
 "nbformat": 4,
 "nbformat_minor": 4
}
